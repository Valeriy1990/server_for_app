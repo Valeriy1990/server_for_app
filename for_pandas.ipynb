{
 "cells": [
  {
   "cell_type": "code",
   "execution_count": 155,
   "id": "ec2a889a",
   "metadata": {},
   "outputs": [],
   "source": [
    "import pandas as pd\n",
    "from datetime import datetime\n",
    "import matplotlib.pyplot as plt"
   ]
  },
  {
   "cell_type": "code",
   "execution_count": 156,
   "id": "735dd8a3",
   "metadata": {},
   "outputs": [
    {
     "data": {
      "text/html": [
       "<div>\n",
       "<style scoped>\n",
       "    .dataframe tbody tr th:only-of-type {\n",
       "        vertical-align: middle;\n",
       "    }\n",
       "\n",
       "    .dataframe tbody tr th {\n",
       "        vertical-align: top;\n",
       "    }\n",
       "\n",
       "    .dataframe thead th {\n",
       "        text-align: right;\n",
       "    }\n",
       "</style>\n",
       "<table border=\"1\" class=\"dataframe\">\n",
       "  <thead>\n",
       "    <tr style=\"text-align: right;\">\n",
       "      <th></th>\n",
       "      <th>humidity</th>\n",
       "      <th>temperature</th>\n",
       "      <th>room</th>\n",
       "      <th>login</th>\n",
       "      <th>date</th>\n",
       "    </tr>\n",
       "  </thead>\n",
       "  <tbody>\n",
       "    <tr>\n",
       "      <th>0</th>\n",
       "      <td>4444</td>\n",
       "      <td>4444</td>\n",
       "      <td>536</td>\n",
       "      <td>Valeriy</td>\n",
       "      <td>2025-05-30 16:15:19.224103</td>\n",
       "    </tr>\n",
       "    <tr>\n",
       "      <th>1</th>\n",
       "      <td>222</td>\n",
       "      <td>222</td>\n",
       "      <td>539</td>\n",
       "      <td>Valeriy</td>\n",
       "      <td>2025-05-30 16:26:58.596173</td>\n",
       "    </tr>\n",
       "    <tr>\n",
       "      <th>2</th>\n",
       "      <td>55</td>\n",
       "      <td>15</td>\n",
       "      <td>548</td>\n",
       "      <td>Valeriy</td>\n",
       "      <td>2025-06-02 10:11:36.570664</td>\n",
       "    </tr>\n",
       "    <tr>\n",
       "      <th>3</th>\n",
       "      <td>55</td>\n",
       "      <td>15</td>\n",
       "      <td>536</td>\n",
       "      <td>Valeriy</td>\n",
       "      <td>2025-06-02 10:39:39.906482</td>\n",
       "    </tr>\n",
       "  </tbody>\n",
       "</table>\n",
       "</div>"
      ],
      "text/plain": [
       "   humidity  temperature  room    login                        date\n",
       "0      4444         4444   536  Valeriy  2025-05-30 16:15:19.224103\n",
       "1       222          222   539  Valeriy  2025-05-30 16:26:58.596173\n",
       "2        55           15   548  Valeriy  2025-06-02 10:11:36.570664\n",
       "3        55           15   536  Valeriy  2025-06-02 10:39:39.906482"
      ]
     },
     "execution_count": 156,
     "metadata": {},
     "output_type": "execute_result"
    }
   ],
   "source": [
    "data = pd.read_csv(\"data.csv\", delimiter=',')\n",
    "\n",
    "# data.sort_values('room')\n",
    "data"
   ]
  },
  {
   "cell_type": "code",
   "execution_count": 157,
   "id": "1008bd78",
   "metadata": {},
   "outputs": [
    {
     "data": {
      "text/html": [
       "<div>\n",
       "<style scoped>\n",
       "    .dataframe tbody tr th:only-of-type {\n",
       "        vertical-align: middle;\n",
       "    }\n",
       "\n",
       "    .dataframe tbody tr th {\n",
       "        vertical-align: top;\n",
       "    }\n",
       "\n",
       "    .dataframe thead th {\n",
       "        text-align: right;\n",
       "    }\n",
       "</style>\n",
       "<table border=\"1\" class=\"dataframe\">\n",
       "  <thead>\n",
       "    <tr style=\"text-align: right;\">\n",
       "      <th></th>\n",
       "      <th>humidity</th>\n",
       "      <th>temperature</th>\n",
       "      <th>room</th>\n",
       "      <th>login</th>\n",
       "      <th>date</th>\n",
       "    </tr>\n",
       "  </thead>\n",
       "  <tbody>\n",
       "    <tr>\n",
       "      <th>0</th>\n",
       "      <td>4444</td>\n",
       "      <td>4444</td>\n",
       "      <td>536</td>\n",
       "      <td>Valeriy</td>\n",
       "      <td>2025-05-30 16:15:19.224103</td>\n",
       "    </tr>\n",
       "    <tr>\n",
       "      <th>3</th>\n",
       "      <td>55</td>\n",
       "      <td>15</td>\n",
       "      <td>536</td>\n",
       "      <td>Valeriy</td>\n",
       "      <td>2025-06-02 10:39:39.906482</td>\n",
       "    </tr>\n",
       "  </tbody>\n",
       "</table>\n",
       "</div>"
      ],
      "text/plain": [
       "   humidity  temperature  room    login                        date\n",
       "0      4444         4444   536  Valeriy  2025-05-30 16:15:19.224103\n",
       "3        55           15   536  Valeriy  2025-06-02 10:39:39.906482"
      ]
     },
     "execution_count": 157,
     "metadata": {},
     "output_type": "execute_result"
    }
   ],
   "source": [
    "data = data.query(f'room == {536}')\n",
    "\n",
    "data"
   ]
  },
  {
   "cell_type": "code",
   "execution_count": 158,
   "id": "ee6e9c85",
   "metadata": {},
   "outputs": [
    {
     "data": {
      "text/html": [
       "<div>\n",
       "<style scoped>\n",
       "    .dataframe tbody tr th:only-of-type {\n",
       "        vertical-align: middle;\n",
       "    }\n",
       "\n",
       "    .dataframe tbody tr th {\n",
       "        vertical-align: top;\n",
       "    }\n",
       "\n",
       "    .dataframe thead th {\n",
       "        text-align: right;\n",
       "    }\n",
       "</style>\n",
       "<table border=\"1\" class=\"dataframe\">\n",
       "  <thead>\n",
       "    <tr style=\"text-align: right;\">\n",
       "      <th></th>\n",
       "      <th>humidity</th>\n",
       "      <th>temperature</th>\n",
       "      <th>date</th>\n",
       "    </tr>\n",
       "  </thead>\n",
       "  <tbody>\n",
       "    <tr>\n",
       "      <th>0</th>\n",
       "      <td>4444</td>\n",
       "      <td>4444</td>\n",
       "      <td>2025-05-30 16:15:19.224103</td>\n",
       "    </tr>\n",
       "    <tr>\n",
       "      <th>3</th>\n",
       "      <td>55</td>\n",
       "      <td>15</td>\n",
       "      <td>2025-06-02 10:39:39.906482</td>\n",
       "    </tr>\n",
       "  </tbody>\n",
       "</table>\n",
       "</div>"
      ],
      "text/plain": [
       "   humidity  temperature                        date\n",
       "0      4444         4444  2025-05-30 16:15:19.224103\n",
       "3        55           15  2025-06-02 10:39:39.906482"
      ]
     },
     "execution_count": 158,
     "metadata": {},
     "output_type": "execute_result"
    }
   ],
   "source": [
    "# x = [2, 3, 5, 7, 11] \n",
    "# y = [2, 3, 5, 7, 11]  \n",
    "# plt.plot(x, y)  \n",
    "# plt.show()  # Отображение графика  \n",
    "data = data[['humidity','temperature','date']]\n",
    "data"
   ]
  },
  {
   "cell_type": "code",
   "execution_count": 159,
   "id": "ee7c127a",
   "metadata": {},
   "outputs": [
    {
     "data": {
      "image/png": "[encoded data removed]",
      "text/plain": [
       "<Figure size 640x480 with 1 Axes>"
      ]
     },
     "metadata": {},
     "output_type": "display_data"
    }
   ],
   "source": [
    "# plt.plot(data[['humidity','temperature']], data[['date']]) # Построим простой график температур\n",
    "# plt.ylabel('temperature / humidity')\n",
    "# plt.legend(['humidity','temperature','date'], loc='upper left')\n",
    "# plt.errorbar(x=[2.4, 4.4], y=means[2:], yerr=sems[2:],\n",
    "#             capsize=3, marker='s', color='brown')\n",
    "plt.show()\n",
    "\n",
    "# Данные для графика:  \n",
    "x = data['date']\n",
    "y1 = data['humidity'] \n",
    "y2 = data['temperature']\n",
    "# Создание линейного графика:  \n",
    "plt.plot(x, y1)  \n",
    "plt.plot(x, y2) \n",
    "# Отображение графика:  \n",
    "plt.show()  "
   ]
  },
  {
   "cell_type": "code",
   "execution_count": null,
   "id": "8eb6976a",
   "metadata": {},
   "outputs": [],
   "source": []
  },
  {
   "cell_type": "code",
   "execution_count": null,
   "id": "acc6f903",
   "metadata": {},
   "outputs": [],
   "source": []
  },
  {
   "cell_type": "code",
   "execution_count": null,
   "id": "63533353",
   "metadata": {},
   "outputs": [],
   "source": []
  },
  {
   "cell_type": "code",
   "execution_count": null,
   "id": "ac600719",
   "metadata": {},
   "outputs": [],
   "source": []
  },
  {
   "cell_type": "code",
   "execution_count": 160,
   "id": "5e175f30",
   "metadata": {},
   "outputs": [],
   "source": [
    "# data.query(f'room == {537}').iloc[-1]"
   ]
  },
  {
   "cell_type": "code",
   "execution_count": 161,
   "id": "9ff817d4",
   "metadata": {},
   "outputs": [],
   "source": [
    "# data = data.groupby([\"room\"], as_index=False).aggregate({\"date\":'max'})\n",
    "# data = data.groupby([\"room\",\"humidity\"], as_index=False).aggregate({\"humidity\"})\n",
    "# data.query(f'room == {537}').iloc[-1].humidity\n"
   ]
  },
  {
   "cell_type": "code",
   "execution_count": 162,
   "id": "c6178969",
   "metadata": {},
   "outputs": [],
   "source": [
    "# for i in data.index:\n",
    "#     print(data.iloc[i].room, data.iloc[i].date)"
   ]
  },
  {
   "cell_type": "code",
   "execution_count": 163,
   "id": "145a5fde",
   "metadata": {},
   "outputs": [],
   "source": [
    "# context = {'date' : datetime.now().date()}\n",
    "# data = pd.read_csv(\"data.csv\", delimiter=',')\n",
    "# for num in (num for num in range(536,549) if num != 547):\n",
    "#     # context[f'room_{num}'] = num\n",
    "#     if num in tuple(data['room']):\n",
    "#         context[f'humidity_{num}'] = datetime.fromisoformat(data.query(f'room == {num}').iloc[-1].date).strftime('%H:%M:%S')\n",
    "\n",
    "#     # context[f'time_{num}'] = data.query(f'room == {num}').iloc[-1].date\n",
    "# print(context)"
   ]
  }
 ],
 "metadata": {
  "kernelspec": {
   "display_name": "Python 3",
   "language": "python",
   "name": "python3"
  },
  "language_info": {
   "codemirror_mode": {
    "name": "ipython",
    "version": 3
   },
   "file_extension": ".py",
   "mimetype": "text/x-python",
   "name": "python",
   "nbconvert_exporter": "python",
   "pygments_lexer": "ipython3",
   "version": "3.12.5"
  }
 },
 "nbformat": 4,
 "nbformat_minor": 5
}
